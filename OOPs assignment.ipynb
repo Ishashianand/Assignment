{
 "cells": [
  {
   "cell_type": "markdown",
   "id": "aea4031f-3803-418c-bcc0-386acaf1a6ae",
   "metadata": {},
   "source": [
    "OOPs assignment\n"
   ]
  },
  {
   "cell_type": "markdown",
   "id": "03440b96-9163-4937-bce5-c01a36e5f2b4",
   "metadata": {},
   "source": [
    "Q1. Which function is used to open a file? What are the different modes of opening a file? Explain each mode of file opening."
   ]
  },
  {
   "cell_type": "raw",
   "id": "53ccdae7-e0d8-4a81-8926-2ce7a2af25d9",
   "metadata": {},
   "source": [
    "The function used to open a file in Python is open(). Here are the different modes of opening a file:\n",
    "\n",
    "'r' (Read Mode): Opens a file for reading. If the file does not exist, it raises an error.\n",
    "'w' (Write Mode): Opens a file for writing. If the file already exists, it truncates the file. If the file does not exist, it creates a new file.\n",
    "'a' (Append Mode): Opens a file for appending. If the file does not exist, it creates a new file.\n",
    "'b' (Binary Mode): Opens a file in binary mode. Used with other modes (e.g., 'rb', 'wb').\n",
    "'t' (Text Mode): Opens a file in text mode. This is the default mode. Used with other modes (e.g., 'rt', 'wt').\n",
    "'+' (Read and Write Mode): Opens a file for both reading and writing. Used with other modes (e.g., 'r+', 'w+')."
   ]
  },
  {
   "cell_type": "markdown",
   "id": "f80e3af6-6244-4071-8980-c95c44e64227",
   "metadata": {},
   "source": [
    "Q2. Why close() function is used? Why is it important to close a file?"
   ]
  },
  {
   "cell_type": "raw",
   "id": "83bbeab3-103a-4027-be7d-20196ed53b38",
   "metadata": {},
   "source": [
    "The close() function is used to close an open file. It is important to close a file because it:\n",
    "\n",
    "Frees up system resources associated with the file.\n",
    "Ensures that all data is properly written to the file.\n",
    "Prevents potential data corruption or loss.\n",
    "Allows other programs or processes to access the file."
   ]
  },
  {
   "cell_type": "markdown",
   "id": "c434c385-1e9b-40d2-949d-03b54bf2a2d3",
   "metadata": {},
   "source": [
    "Q3. Write a Python program to create a text file. Write 'I want to become a Data Scientist' in that file. Then close the file. Open this file and read the content of the file."
   ]
  },
  {
   "cell_type": "code",
   "execution_count": 4,
   "id": "63850199-91f5-441c-ace4-462a16016d86",
   "metadata": {},
   "outputs": [
    {
     "name": "stdout",
     "output_type": "stream",
     "text": [
      "I want to become a Data Scientist\n"
     ]
    }
   ],
   "source": [
    "# Creating and writing to a text file\n",
    "file = open(\"data_scientist.txt\", \"w\")\n",
    "file.write(\"I want to become a Data Scientist\")\n",
    "file.close()\n",
    "\n",
    "# Reading the content of the file\n",
    "file = open(\"data_scientist.txt\", \"r\")\n",
    "content = file.read()\n",
    "file.close()\n",
    "print(content)\n"
   ]
  },
  {
   "cell_type": "markdown",
   "id": "22774b0b-89bd-42ef-ab4b-bf9a8afd2e2b",
   "metadata": {},
   "source": [
    "Q4. Explain the following with Python code: read(), readline(), and readlines().\n",
    "read(): Reads the entire content of the file.\n",
    "readline(): Reads one line from the file.\n",
    "readlines(): Reads all the lines of the file and returns a list."
   ]
  },
  {
   "cell_type": "raw",
   "id": "0900ec98-8b21-47b0-807a-5d837dc04d23",
   "metadata": {},
   "source": [
    "read(): Reads the entire content of the file.\n",
    "readline(): Reads one line from the file.\n",
    "readlines(): Reads all the lines of the file and returns a list."
   ]
  },
  {
   "cell_type": "code",
   "execution_count": 5,
   "id": "b3525adb-cbb6-48ec-a4c3-5901bb6bb7ab",
   "metadata": {},
   "outputs": [
    {
     "name": "stdout",
     "output_type": "stream",
     "text": [
      "Using read():\n",
      "First line\n",
      "Second line\n",
      "Third line\n",
      "\n",
      "Using readline():\n",
      "First line\n",
      "Using readlines():\n",
      "['First line\\n', 'Second line\\n', 'Third line\\n']\n"
     ]
    }
   ],
   "source": [
    "# Create a text file with multiple lines\n",
    "with open(\"example.txt\", \"w\") as file:\n",
    "    file.write(\"First line\\n\")\n",
    "    file.write(\"Second line\\n\")\n",
    "    file.write(\"Third line\\n\")\n",
    "\n",
    "# Using read()\n",
    "with open(\"example.txt\", \"r\") as file:\n",
    "    content = file.read()\n",
    "print(\"Using read():\")\n",
    "print(content)\n",
    "\n",
    "# Using readline()\n",
    "with open(\"example.txt\", \"r\") as file:\n",
    "    line = file.readline()\n",
    "    print(\"Using readline():\")\n",
    "    print(line, end='')  # end='' to avoid double newline\n",
    "\n",
    "# Using readlines()\n",
    "with open(\"example.txt\", \"r\") as file:\n",
    "    lines = file.readlines()\n",
    "print(\"Using readlines():\")\n",
    "print(lines)\n"
   ]
  },
  {
   "cell_type": "markdown",
   "id": "7a6fe482-72a7-4184-8b13-ef61424d991e",
   "metadata": {},
   "source": [
    "Q5. Explain why with statement is used with open(). What is the advantage of using with statement and open() together?"
   ]
  },
  {
   "cell_type": "raw",
   "id": "b118d571-4ace-4fe3-82af-a2e9f1d72737",
   "metadata": {},
   "source": [
    "The with statement is used with open() to ensure that the file is properly closed after its suite finishes, even if an exception is raised. This is known as a context manager.\n",
    "\n",
    "Advantages:\n",
    "\n",
    "Automatic resource management.\n",
    "Cleaner and more readable code.\n",
    "Reduces the likelihood of forgetting to close the file."
   ]
  },
  {
   "cell_type": "code",
   "execution_count": 6,
   "id": "6ebcc20a-553a-4cb1-b05f-5a58be86fa33",
   "metadata": {},
   "outputs": [
    {
     "name": "stdout",
     "output_type": "stream",
     "text": [
      "I want to become a Data Scientist\n"
     ]
    }
   ],
   "source": [
    "with open(\"data_scientist.txt\", \"r\") as file:\n",
    "    content = file.read()\n",
    "print(content)\n"
   ]
  },
  {
   "cell_type": "markdown",
   "id": "d693de9e-9ec5-4877-91bf-3042c9e93893",
   "metadata": {},
   "source": [
    "Q6. Explain the write() and writelines() functions. Give a suitable example."
   ]
  },
  {
   "cell_type": "raw",
   "id": "237cada0-d796-4d9b-9781-0fa0be2ccc06",
   "metadata": {},
   "source": [
    "write(): Writes a single string to the file.\n",
    "writelines(): Writes a list of strings to the file."
   ]
  },
  {
   "cell_type": "code",
   "execution_count": 7,
   "id": "71780a46-3fbb-49ab-9c89-815bf4fa2cda",
   "metadata": {},
   "outputs": [
    {
     "name": "stdout",
     "output_type": "stream",
     "text": [
      "Content of write_example.txt:\n",
      "Hello, World!\n",
      "Python is fun.\n",
      "\n",
      "Content of writelines_example.txt:\n",
      "Line 1\n",
      "Line 2\n",
      "Line 3\n",
      "\n"
     ]
    }
   ],
   "source": [
    "# Using write()\n",
    "with open(\"write_example.txt\", \"w\") as file:\n",
    "    file.write(\"Hello, World!\\n\")\n",
    "    file.write(\"Python is fun.\\n\")\n",
    "\n",
    "# Using writelines()\n",
    "lines = [\"Line 1\\n\", \"Line 2\\n\", \"Line 3\\n\"]\n",
    "with open(\"writelines_example.txt\", \"w\") as file:\n",
    "    file.writelines(lines)\n",
    "\n",
    "# Reading the content to verify\n",
    "with open(\"write_example.txt\", \"r\") as file:\n",
    "    print(\"Content of write_example.txt:\")\n",
    "    print(file.read())\n",
    "\n",
    "with open(\"writelines_example.txt\", \"r\") as file:\n",
    "    print(\"Content of writelines_example.txt:\")\n",
    "    print(file.read())\n"
   ]
  },
  {
   "cell_type": "code",
   "execution_count": null,
   "id": "36f6495d-5c61-499b-938a-f43f20e4f8ef",
   "metadata": {},
   "outputs": [],
   "source": []
  }
 ],
 "metadata": {
  "kernelspec": {
   "display_name": "Python 3 (ipykernel)",
   "language": "python",
   "name": "python3"
  },
  "language_info": {
   "codemirror_mode": {
    "name": "ipython",
    "version": 3
   },
   "file_extension": ".py",
   "mimetype": "text/x-python",
   "name": "python",
   "nbconvert_exporter": "python",
   "pygments_lexer": "ipython3",
   "version": "3.11.7"
  }
 },
 "nbformat": 4,
 "nbformat_minor": 5
}
